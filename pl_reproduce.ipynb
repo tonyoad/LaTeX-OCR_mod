{
  "cells": [
    {
      "cell_type": "markdown",
      "metadata": {
        "id": "XG49K26Ee-qG"
      },
      "source": [
        "#  LaTeX-OCR colab reproduction with pytorch lightning\n",
        "\n",
        "using new trainer file, modified config file and modified dataset file\n",
        "\n",
        "note:\n",
        "\n",
        "colab GPU session cut off after ep29, so testing is done in another GPU session"
      ]
    },
    {
      "cell_type": "code",
      "execution_count": 1,
      "metadata": {
        "colab": {
          "base_uri": "https://localhost:8080/"
        },
        "id": "nNig57FHfISc",
        "outputId": "aca80000-9fc6-4a55-a698-dc1450fdc651"
      },
      "outputs": [
        {
          "name": "stdout",
          "output_type": "stream",
          "text": [
            "/content\n"
          ]
        }
      ],
      "source": [
        "!pwd"
      ]
    },
    {
      "cell_type": "code",
      "execution_count": 2,
      "metadata": {
        "id": "ji2T9Rdpfafh"
      },
      "outputs": [],
      "source": [
        "%load_ext autoreload\n",
        "%autoreload 2"
      ]
    },
    {
      "cell_type": "markdown",
      "metadata": {
        "id": "wsnXEOUsfm1Z"
      },
      "source": [
        "# installs"
      ]
    },
    {
      "cell_type": "code",
      "execution_count": 3,
      "metadata": {
        "id": "qCAHZvwdfxZ9"
      },
      "outputs": [],
      "source": [
        "from google.colab import files\n",
        "import os\n",
        "from os import path as osp"
      ]
    },
    {
      "cell_type": "code",
      "execution_count": 4,
      "metadata": {
        "colab": {
          "base_uri": "https://localhost:8080/"
        },
        "id": "63d-5yyz1fgp",
        "outputId": "a42bd935-eb13-403a-f648-647d7cb4efaf"
      },
      "outputs": [
        {
          "name": "stdout",
          "output_type": "stream",
          "text": [
            "\u001b[?25l     \u001b[90m━━━━━━━━━━━━━━━━━━━━━━━━━━━━━━━━━━━━━━━━\u001b[0m \u001b[32m0.0/422.9 kB\u001b[0m \u001b[31m?\u001b[0m eta \u001b[36m-:--:--\u001b[0m\r\u001b[2K     \u001b[91m━━━━━━━━━━━━━━━━━━━━\u001b[0m\u001b[91m╸\u001b[0m\u001b[90m━━━━━━━━━━━━━━━━━━\u001b[0m \u001b[32m225.3/422.9 kB\u001b[0m \u001b[31m7.0 MB/s\u001b[0m eta \u001b[36m0:00:01\u001b[0m\r\u001b[2K     \u001b[90m━━━━━━━━━━━━━━━━━━━━━━━━━━━━━━━━━━━━━━━\u001b[0m \u001b[32m422.9/422.9 kB\u001b[0m \u001b[31m7.8 MB/s\u001b[0m eta \u001b[36m0:00:00\u001b[0m\n",
            "\u001b[2K     \u001b[90m━━━━━━━━━━━━━━━━━━━━━━━━━━━━━━━━━━━━━━━━\u001b[0m \u001b[32m42.2/42.2 kB\u001b[0m \u001b[31m5.4 MB/s\u001b[0m eta \u001b[36m0:00:00\u001b[0m\n",
            "\u001b[2K     \u001b[90m━━━━━━━━━━━━━━━━━━━━━━━━━━━━━━━━━━━━━━━━\u001b[0m \u001b[32m7.6/7.6 MB\u001b[0m \u001b[31m24.8 MB/s\u001b[0m eta \u001b[36m0:00:00\u001b[0m\n",
            "\u001b[2K     \u001b[90m━━━━━━━━━━━━━━━━━━━━━━━━━━━━━━━━━━━━━━━━\u001b[0m \u001b[32m3.8/3.8 MB\u001b[0m \u001b[31m43.0 MB/s\u001b[0m eta \u001b[36m0:00:00\u001b[0m\n",
            "\u001b[2K     \u001b[90m━━━━━━━━━━━━━━━━━━━━━━━━━━━━━━━━━━━━━━\u001b[0m \u001b[32m431.5/431.5 kB\u001b[0m \u001b[31m30.5 MB/s\u001b[0m eta \u001b[36m0:00:00\u001b[0m\n",
            "\u001b[2K     \u001b[90m━━━━━━━━━━━━━━━━━━━━━━━━━━━━━━━━━━━━━━\u001b[0m \u001b[32m172.9/172.9 kB\u001b[0m \u001b[31m17.8 MB/s\u001b[0m eta \u001b[36m0:00:00\u001b[0m\n",
            "\u001b[2K     \u001b[90m━━━━━━━━━━━━━━━━━━━━━━━━━━━━━━━━━━━━━━━━\u001b[0m \u001b[32m3.1/3.1 MB\u001b[0m \u001b[31m68.3 MB/s\u001b[0m eta \u001b[36m0:00:00\u001b[0m\n",
            "\u001b[2K     \u001b[90m━━━━━━━━━━━━━━━━━━━━━━━━━━━━━━━━━━━━━━\u001b[0m \u001b[32m268.8/268.8 kB\u001b[0m \u001b[31m29.2 MB/s\u001b[0m eta \u001b[36m0:00:00\u001b[0m\n",
            "\u001b[2K     \u001b[90m━━━━━━━━━━━━━━━━━━━━━━━━━━━━━━━━━━━━━━━━\u001b[0m \u001b[32m7.8/7.8 MB\u001b[0m \u001b[31m73.0 MB/s\u001b[0m eta \u001b[36m0:00:00\u001b[0m\n",
            "\u001b[2K     \u001b[90m━━━━━━━━━━━━━━━━━━━━━━━━━━━━━━━━━━━━━━━━\u001b[0m \u001b[32m1.3/1.3 MB\u001b[0m \u001b[31m71.7 MB/s\u001b[0m eta \u001b[36m0:00:00\u001b[0m\n",
            "\u001b[?25h"
          ]
        }
      ],
      "source": [
        "# for laziness\n",
        "!pip install pix2tex[train] -qq"
      ]
    },
    {
      "cell_type": "code",
      "execution_count": 5,
      "metadata": {
        "colab": {
          "base_uri": "https://localhost:8080/"
        },
        "id": "d7sEerGjforq",
        "outputId": "2aabe496-95ed-4cc0-f0e0-e486feab544f"
      },
      "outputs": [
        {
          "name": "stdout",
          "output_type": "stream",
          "text": [
            "\u001b[2K     \u001b[90m━━━━━━━━━━━━━━━━━━━━━━━━━━━━━━━━━━━━━━━━\u001b[0m \u001b[32m1.9/1.9 MB\u001b[0m \u001b[31m28.9 MB/s\u001b[0m eta \u001b[36m0:00:00\u001b[0m\n",
            "\u001b[2K     \u001b[90m━━━━━━━━━━━━━━━━━━━━━━━━━━━━━━━━━━━━━━━━\u001b[0m \u001b[32m66.4/66.4 kB\u001b[0m \u001b[31m7.0 MB/s\u001b[0m eta \u001b[36m0:00:00\u001b[0m\n",
            "\u001b[2K     \u001b[90m━━━━━━━━━━━━━━━━━━━━━━━━━━━━━━━━━━━━━━━━\u001b[0m \u001b[32m71.3/71.3 kB\u001b[0m \u001b[31m9.3 MB/s\u001b[0m eta \u001b[36m0:00:00\u001b[0m\n",
            "\u001b[2K     \u001b[90m━━━━━━━━━━━━━━━━━━━━━━━━━━━━━━━━━━━━━━━━\u001b[0m \u001b[32m66.2/66.2 kB\u001b[0m \u001b[31m7.5 MB/s\u001b[0m eta \u001b[36m0:00:00\u001b[0m\n",
            "\u001b[2K     \u001b[90m━━━━━━━━━━━━━━━━━━━━━━━━━━━━━━━━━━━━━━\u001b[0m \u001b[32m660.0/660.0 kB\u001b[0m \u001b[31m41.7 MB/s\u001b[0m eta \u001b[36m0:00:00\u001b[0m\n",
            "\u001b[2K     \u001b[90m━━━━━━━━━━━━━━━━━━━━━━━━━━━━━━━━━━━━━━━━\u001b[0m \u001b[32m45.7/45.7 kB\u001b[0m \u001b[31m5.4 MB/s\u001b[0m eta \u001b[36m0:00:00\u001b[0m\n",
            "\u001b[2K     \u001b[90m━━━━━━━━━━━━━━━━━━━━━━━━━━━━━━━━━━━━━━━━\u001b[0m \u001b[32m69.9/69.9 kB\u001b[0m \u001b[31m9.2 MB/s\u001b[0m eta \u001b[36m0:00:00\u001b[0m\n",
            "\u001b[2K     \u001b[90m━━━━━━━━━━━━━━━━━━━━━━━━━━━━━━━━━━━━━━\u001b[0m \u001b[32m805.2/805.2 kB\u001b[0m \u001b[31m60.5 MB/s\u001b[0m eta \u001b[36m0:00:00\u001b[0m\n",
            "\u001b[2K     \u001b[90m━━━━━━━━━━━━━━━━━━━━━━━━━━━━━━━━━━━━━━━━\u001b[0m \u001b[32m59.5/59.5 kB\u001b[0m \u001b[31m7.3 MB/s\u001b[0m eta \u001b[36m0:00:00\u001b[0m\n",
            "\u001b[2K     \u001b[90m━━━━━━━━━━━━━━━━━━━━━━━━━━━━━━━━━━━━━━\u001b[0m \u001b[32m129.9/129.9 kB\u001b[0m \u001b[31m14.3 MB/s\u001b[0m eta \u001b[36m0:00:00\u001b[0m\n",
            "\u001b[2K     \u001b[90m━━━━━━━━━━━━━━━━━━━━━━━━━━━━━━━━━━━━━━\u001b[0m \u001b[32m727.7/727.7 kB\u001b[0m \u001b[31m60.8 MB/s\u001b[0m eta \u001b[36m0:00:00\u001b[0m\n",
            "\u001b[2K     \u001b[90m━━━━━━━━━━━━━━━━━━━━━━━━━━━━━━━━━━━━━━━━\u001b[0m \u001b[32m67.0/67.0 kB\u001b[0m \u001b[31m8.4 MB/s\u001b[0m eta \u001b[36m0:00:00\u001b[0m\n",
            "\u001b[2K     \u001b[90m━━━━━━━━━━━━━━━━━━━━━━━━━━━━━━━━━━━━━━━━\u001b[0m \u001b[32m58.4/58.4 kB\u001b[0m \u001b[31m6.7 MB/s\u001b[0m eta \u001b[36m0:00:00\u001b[0m\n",
            "\u001b[2K     \u001b[90m━━━━━━━━━━━━━━━━━━━━━━━━━━━━━━━━━━━━━━━━\u001b[0m \u001b[32m58.3/58.3 kB\u001b[0m \u001b[31m6.4 MB/s\u001b[0m eta \u001b[36m0:00:00\u001b[0m\n",
            "\u001b[2K     \u001b[90m━━━━━━━━━━━━━━━━━━━━━━━━━━━━━━━━━━━━━━━━\u001b[0m \u001b[32m2.1/2.1 MB\u001b[0m \u001b[31m11.7 MB/s\u001b[0m eta \u001b[36m0:00:00\u001b[0m\n",
            "\u001b[2K     \u001b[90m━━━━━━━━━━━━━━━━━━━━━━━━━━━━━━━━━━━━━━\u001b[0m \u001b[32m190.0/190.0 kB\u001b[0m \u001b[31m16.5 MB/s\u001b[0m eta \u001b[36m0:00:00\u001b[0m\n",
            "\u001b[2K     \u001b[90m━━━━━━━━━━━━━━━━━━━━━━━━━━━━━━━━━━━━━━\u001b[0m \u001b[32m224.8/224.8 kB\u001b[0m \u001b[31m15.4 MB/s\u001b[0m eta \u001b[36m0:00:00\u001b[0m\n",
            "\u001b[?25h  Preparing metadata (setup.py) ... \u001b[?25l\u001b[?25hdone\n",
            "\u001b[2K     \u001b[90m━━━━━━━━━━━━━━━━━━━━━━━━━━━━━━━━━━━━━━━━\u001b[0m \u001b[32m62.7/62.7 kB\u001b[0m \u001b[31m6.4 MB/s\u001b[0m eta \u001b[36m0:00:00\u001b[0m\n",
            "\u001b[?25h  Building wheel for pathtools (setup.py) ... \u001b[?25l\u001b[?25hdone\n"
          ]
        }
      ],
      "source": [
        "!pip install --upgrade --no-cache-dir gdown -q\n",
        "!pip install timm==0.5.4 -U -q\n",
        "!pip install opencv-python-headless -U -q\n",
        "!pip install lightning==2.0.8 -q\n",
        "!pip install wandb -q"
      ]
    },
    {
      "cell_type": "markdown",
      "metadata": {
        "id": "J0ksiM29_hmN"
      },
      "source": [
        "# clone repo"
      ]
    },
    {
      "cell_type": "code",
      "execution_count": 6,
      "metadata": {
        "colab": {
          "base_uri": "https://localhost:8080/"
        },
        "id": "sPrgwnbwgt8Z",
        "outputId": "e82431ae-2e37-4e9f-b381-3420782a03a1"
      },
      "outputs": [
        {
          "name": "stdout",
          "output_type": "stream",
          "text": [
            "/content\n",
            "Cloning into 'LaTeX-OCR'...\n",
            "remote: Enumerating objects: 1834, done.\u001b[K\n",
            "remote: Counting objects: 100% (806/806), done.\u001b[K\n",
            "remote: Compressing objects: 100% (246/246), done.\u001b[K\n",
            "remote: Total 1834 (delta 659), reused 560 (delta 560), pack-reused 1028\u001b[K\n",
            "Receiving objects: 100% (1834/1834), 9.40 MiB | 20.02 MiB/s, done.\n",
            "Resolving deltas: 100% (1045/1045), done.\n"
          ]
        }
      ],
      "source": [
        "%cd /content\n",
        "!git clone https://github.com/lukas-blecher/LaTeX-OCR"
      ]
    },
    {
      "cell_type": "markdown",
      "metadata": {
        "id": "Rb46nWbYjL4A"
      },
      "source": [
        "# form dataset\n",
        "\n",
        "brief notes on dataset format\n",
        "\n",
        "- text file contains space-separated latex symbols, each line corresponds to a figure\n",
        "\n",
        "- image files must be named according to line number, line 1 -> 00000.png, line 2 -> 00001.png, etc.\n",
        "\n",
        "- image files can correspond to a subset of math lines, as below"
      ]
    },
    {
      "cell_type": "code",
      "execution_count": 7,
      "metadata": {
        "colab": {
          "base_uri": "https://localhost:8080/"
        },
        "id": "_jdrNCqRlfym",
        "outputId": "0503093f-664f-4ce8-f954-565923190b2b"
      },
      "outputs": [
        {
          "name": "stdout",
          "output_type": "stream",
          "text": [
            "/content/pdf\n",
            "Downloading...\n",
            "From (uriginal): https://drive.google.com/uc?id=176PKaCUDWmTJdQwc-OfkO0y8t4gLsIvQ\n",
            "From (redirected): https://drive.google.com/uc?id=176PKaCUDWmTJdQwc-OfkO0y8t4gLsIvQ&confirm=t&uuid=0049a857-d51a-46e9-a9a4-9da8d5f9cc09\n",
            "To: /content/pdf/pdf.zip\n",
            "100% 284M/284M [00:02<00:00, 97.6MB/s]\n",
            "Downloading...\n",
            "From: https://drive.google.com/uc?id=1QUjX6PFWPa-HBWdcY-7bA5TRVUnbyS1D\n",
            "To: /content/pdf/math.txt\n",
            "100% 36.6M/36.6M [00:00<00:00, 65.6MB/s]\n",
            "/content\n",
            "CPU times: user 176 ms, sys: 29.7 ms, total: 205 ms\n",
            "Wall time: 22.9 s\n"
          ]
        }
      ],
      "source": [
        "%%time\n",
        "if not osp.exists(\"/content/pdf\"):\n",
        "    !mkdir /content/pdf\n",
        "    %cd /content/pdf\n",
        "    !gdown -O pdf.zip 176PKaCUDWmTJdQwc-OfkO0y8t4gLsIvQ\n",
        "    !gdown -O math.txt 1QUjX6PFWPa-HBWdcY-7bA5TRVUnbyS1D\n",
        "    !unzip -q pdf.zip\n",
        "    %cd /content"
      ]
    },
    {
      "cell_type": "code",
      "execution_count": 8,
      "metadata": {
        "colab": {
          "base_uri": "https://localhost:8080/"
        },
        "id": "L-KreJuHkCNh",
        "outputId": "29f3a931-217a-484d-cb85-9196e3f62e6b"
      },
      "outputs": [
        {
          "name": "stdout",
          "output_type": "stream",
          "text": [
            "/content/LaTeX-OCR\n",
            "Generate dataset\n",
            "100% 158480/158480 [00:03<00:00, 49217.76it/s]\n"
          ]
        }
      ],
      "source": [
        "%cd /content/LaTeX-OCR\n",
        "!python -m pix2tex.dataset.dataset -i /content/pdf/train -e /content/pdf/math.txt \\\n",
        "    -o /content/pdf/train.pkl"
      ]
    },
    {
      "cell_type": "code",
      "execution_count": 9,
      "metadata": {
        "colab": {
          "base_uri": "https://localhost:8080/"
        },
        "id": "FvPnk106lxsZ",
        "outputId": "7ea2fa25-e1d4-47ea-8c4b-376a46db0eea"
      },
      "outputs": [
        {
          "name": "stdout",
          "output_type": "stream",
          "text": [
            "/content/LaTeX-OCR\n",
            "Generate dataset\n",
            "100% 6765/6765 [00:00<00:00, 27958.67it/s]\n"
          ]
        }
      ],
      "source": [
        "%cd /content/LaTeX-OCR\n",
        "!python -m pix2tex.dataset.dataset -i /content/pdf/val -e /content/pdf/math.txt \\\n",
        "    -o /content/pdf/val.pkl"
      ]
    },
    {
      "cell_type": "code",
      "execution_count": 10,
      "metadata": {
        "colab": {
          "base_uri": "https://localhost:8080/"
        },
        "id": "rvla2R53IF8h",
        "outputId": "fbdf4a76-8fa2-4762-c6e7-f22585cb35de"
      },
      "outputs": [
        {
          "name": "stdout",
          "output_type": "stream",
          "text": [
            "/content/LaTeX-OCR\n",
            "Generate dataset\n",
            "100% 30637/30637 [00:00<00:00, 34865.56it/s]\n"
          ]
        }
      ],
      "source": [
        "%cd /content/LaTeX-OCR\n",
        "!python -m pix2tex.dataset.dataset -i /content/pdf/test -e /content/pdf/math.txt \\\n",
        "    -o /content/pdf/test.pkl"
      ]
    },
    {
      "cell_type": "markdown",
      "metadata": {
        "id": "6rzKkRYrN-pa"
      },
      "source": [
        "# load whole log directory from drive (for continue training only)"
      ]
    },
    {
      "cell_type": "code",
      "execution_count": 11,
      "metadata": {
        "colab": {
          "base_uri": "https://localhost:8080/"
        },
        "id": "acwbReReS0a2",
        "outputId": "60d019ae-78aa-41b0-d4ef-e003c6c166e4"
      },
      "outputs": [
        {
          "name": "stdout",
          "output_type": "stream",
          "text": [
            "Mounted at /content/drive\n"
          ]
        }
      ],
      "source": [
        "from google.colab import drive\n",
        "drive.mount('/content/drive')\n",
        "\n",
        "import shutil\n",
        "from os import path as osp\n",
        "\n",
        "drive_dir = \"/content/drive/MyDrive/latex_ocr\" # the partent dir in drive, change it\n",
        "log_dir = \"reproducing/version_1\" # in my own storage, the version is \"version_1\"\n",
        "\n",
        "src = osp.join(drive_dir, log_dir)\n",
        "dst = osp.join(\"/content/lightning_logs\", log_dir)\n",
        "shutil.copytree(src, dst)\n",
        "\n",
        "drive.flush_and_unmount()"
      ]
    },
    {
      "cell_type": "code",
      "execution_count": null,
      "metadata": {
        "id": "adhrtY8XJWJo"
      },
      "outputs": [],
      "source": [
        "1# in case needing to remove it\n",
        "# import shutil\n",
        "# shutil.rmtree(\"/content/lightning_logs\")"
      ]
    },
    {
      "cell_type": "markdown",
      "metadata": {
        "id": "e9qmsZujl6fJ"
      },
      "source": [
        "# run\n",
        "\n",
        "1. edit hyper parameters and/or I/O locations!\n",
        "\n",
        "2. move the new trainer and modified dataset file\n",
        "\n",
        "3. run\n",
        "\n",
        "pt-lightning:\n",
        "\n",
        "- would assign a version number if not supplied, the string would be \"version_0\", etc.\n",
        "\n",
        "- requires a correct dataset size to trigger validation loop (after \"all\" training pairs are iterated)\n",
        "\n"
      ]
    },
    {
      "cell_type": "code",
      "execution_count": null,
      "metadata": {
        "colab": {
          "base_uri": "https://localhost:8080/",
          "height": 17
        },
        "id": "Diir-s0UUeux",
        "outputId": "2a0b3e3f-182c-419a-ab01-0efbcab22a9e"
      },
      "outputs": [
        {
          "data": {
            "application/javascript": "\n      ((filepath) => {{\n        if (!google.colab.kernel.accessAllowed) {{\n          return;\n        }}\n        google.colab.files.view(filepath);\n      }})(\"/content/colab_config.yaml\")",
            "text/plain": [
              "<IPython.core.display.Javascript object>"
            ]
          },
          "metadata": {},
          "output_type": "display_data"
        }
      ],
      "source": [
        "# open the file in a new tab in colab\n",
        "from google.colab import files\n",
        "files.view(\"/content/colab_config.yaml\")"
      ]
    },
    {
      "cell_type": "code",
      "execution_count": null,
      "metadata": {
        "colab": {
          "base_uri": "https://localhost:8080/"
        },
        "id": "1Lk_P3gNM7JQ",
        "outputId": "adc976b8-6e55-4603-b28e-1d88168ebce7"
      },
      "outputs": [
        {
          "name": "stdout",
          "output_type": "stream",
          "text": [
            "/content/lightning_logs/reproducing/version_1/checkpoints/epoch=27-step=136975.ckpt\n",
            "version_1\n",
            "29\n"
          ]
        }
      ],
      "source": [
        "# if contine training, change the load_pl_chpt, version number, middlestop in config accordingingly\n",
        "def xstr(s):\n",
        "    if s is None:\n",
        "        return 'None'\n",
        "    return str(s)\n",
        "\n",
        "# check configs here\n",
        "import yaml\n",
        "with open(\"/content/colab_config.yaml\", \"r\") as f:\n",
        "    config_dict = yaml.safe_load(f)\n",
        "    print(xstr(config_dict[\"load_pl_chpt\"]))\n",
        "    print(xstr(config_dict[\"version\"]))\n",
        "    print(xstr(config_dict[\"middlestop\"]))"
      ]
    },
    {
      "cell_type": "code",
      "execution_count": null,
      "metadata": {
        "colab": {
          "base_uri": "https://localhost:8080/"
        },
        "id": "B6jvhIjSmFVS",
        "outputId": "e61073e8-52d7-44ef-c51e-59a3305ea38c"
      },
      "outputs": [
        {
          "name": "stdout",
          "output_type": "stream",
          "text": [
            "/content/LaTeX-OCR\n",
            "2023-09-26 14:30:57.990751: W tensorflow/compiler/tf2tensorrt/utils/py_utils.cc:38] TF-TRT Warning: Could not find TensorRT\n",
            "Global seed set to 42\n",
            "out path = /content/lightning_logs\n",
            "Using 16bit Automatic Mixed Precision (AMP)\n",
            "GPU available: True (cuda), used: True\n",
            "TPU available: False, using: 0 TPU cores\n",
            "IPU available: False, using: 0 IPUs\n",
            "HPU available: False, using: 0 HPUs\n",
            "/usr/local/lib/python3.10/dist-packages/lightning/pytorch/callbacks/model_checkpoint.py:617: UserWarning: Checkpoint directory /content/lightning_logs/reproducing/version_1/checkpoints exists and is not empty.\n",
            "  rank_zero_warn(f\"Checkpoint directory {dirpath} exists and is not empty.\")\n",
            "Restoring states from the checkpoint path at /content/lightning_logs/reproducing/version_1/checkpoints/epoch=27-step=136975.ckpt\n",
            "LOCAL_RANK: 0 - CUDA_VISIBLE_DEVICES: [0]\n",
            "\n",
            "  | Name     | Type  | Params\n",
            "-----------------------------------\n",
            "0 | pt_model | Model | 25.5 M\n",
            "-----------------------------------\n",
            "25.5 M    Trainable params\n",
            "0         Non-trainable params\n",
            "25.5 M    Total params\n",
            "101.996   Total estimated model params size (MB)\n",
            "Restored all states from the checkpoint at /content/lightning_logs/reproducing/version_1/checkpoints/epoch=27-step=136975.ckpt\n",
            "Sanity Checking DataLoader 0: 100% 2/2 [00:05<00:00,  2.82s/it]\n",
            "Epoch 27 validation scores: {'val_bleu_0': 0.8821089036530668, 'val_ed_0': 0.10670836997518732, 'val_acc_0': 0.5920284390449524}\n",
            "Training: 0it [00:00, ?it/s]\n",
            "fit start from epoch 28\n",
            "stop right after epoch 29\n",
            "Epoch 28:  21% 1020/4941 [06:22<24:31,  2.66it/s, v_num=on_1]\n",
            "Validation: 0it [00:00, ?it/s]\u001b[A\n",
            "Validation:   0% 0/20 [00:00<?, ?it/s]\u001b[A\n",
            "Validation DataLoader 0:   0% 0/20 [00:00<?, ?it/s]\u001b[A\n",
            "Validation DataLoader 0: 100% 20/20 [00:32<00:00,  1.65s/it]\u001b[A\n",
            "Epoch 28 validation scores: {'val_bleu_0': 0.8855079462178512, 'val_ed_0': 0.09561290375943822, 'val_acc_0': 0.6216017223894597}\n",
            "Epoch 28:  21% 1020/4941 [06:57<26:43,  2.45it/s, v_num=on_1]\n",
            "Epoch 28:  81% 4020/4941 [22:30<05:09,  2.98it/s, v_num=on_1]\n",
            "Validation: 0it [00:00, ?it/s]\u001b[A\n",
            "Validation:   0% 0/20 [00:00<?, ?it/s]\u001b[A\n",
            "Validation DataLoader 0:   0% 0/20 [00:00<?, ?it/s]\u001b[A\n",
            "Validation DataLoader 0: 100% 20/20 [01:24<00:00,  4.23s/it]\u001b[A\n",
            "Epoch 28 validation scores: {'val_bleu_0': 0.8154592425425479, 'val_ed_0': 0.23538483257316556, 'val_acc_0': 0.46736373119056224}\n",
            "Epoch 28:  81% 4020/4941 [23:56<05:29,  2.80it/s, v_num=on_1]\n",
            "Epoch 29:  43% 2120/4941 [10:07<13:28,  3.49it/s, v_num=on_1]\n",
            "Validation: 0it [00:00, ?it/s]\u001b[A\n",
            "Validation:   0% 0/20 [00:00<?, ?it/s]\u001b[A\n",
            "Validation DataLoader 0:   0% 0/20 [00:00<?, ?it/s]\u001b[A\n",
            "Validation DataLoader 0: 100% 20/20 [00:48<00:00,  2.43s/it]\u001b[A\n",
            "Epoch 29 validation scores: {'val_bleu_0': 0.8068695578491342, 'val_ed_0': 0.1350917479427836, 'val_acc_0': 0.5054238595068454}\n",
            "Epoch 29:  43% 2120/4941 [11:01<14:39,  3.21it/s, v_num=on_1]\n",
            "Epoch 29:  99% 4880/4941 [23:55<00:17,  3.40it/s, v_num=on_1]\n",
            "last model saved in .pth format\n"
          ]
        }
      ],
      "source": [
        "import shutil\n",
        "shutil.copy2(\"/content/colab_train_pl.py\", \"/content/LaTeX-OCR/pix2tex/train_pl.py\")\n",
        "# copy original dataset script, for reference only\n",
        "if not osp.exists(\"/content/dataset_original.py\"):\n",
        "    shutil.copy2(\"/content/LaTeX-OCR/pix2tex/dataset/dataset.py\", \"/content/dataset_original.py\")\n",
        "shutil.copy2(\"/content/pl_dataset.py\", \"/content/LaTeX-OCR/pix2tex/dataset/dataset.py\")\n",
        "%cd /content/LaTeX-OCR\n",
        "!python -m pix2tex.train_pl --config /content/colab_config.yaml\n",
        "\n",
        "# # store to drive, copied from following section\n",
        "# from google.colab import drive\n",
        "# drive.mount('/content/drive')\n",
        "\n",
        "# import shutil\n",
        "# src = \"/content/lightning_logs/reproducing/version_1\"\n",
        "# dst = \"/content/drive/MyDrive/latex_ocr/reproducing/version_1\"\n",
        "# shutil.copytree(src, dst, dirs_exist_ok=True)\n",
        "\n",
        "# drive.flush_and_unmount()"
      ]
    },
    {
      "cell_type": "markdown",
      "metadata": {
        "id": "e34ORt53UCvt"
      },
      "source": [
        "# store to drive"
      ]
    },
    {
      "cell_type": "code",
      "execution_count": null,
      "metadata": {
        "colab": {
          "base_uri": "https://localhost:8080/"
        },
        "id": "eBvW8MyBA6cM",
        "outputId": "87159174-def6-46d8-cebf-4aeaed58c7ba"
      },
      "outputs": [
        {
          "name": "stdout",
          "output_type": "stream",
          "text": [
            "Mounted at /content/drive\n"
          ]
        }
      ],
      "source": [
        "from google.colab import drive\n",
        "drive.mount('/content/drive')\n",
        "\n",
        "import shutil\n",
        "src = \"/content/lightning_logs/reproducing/version_1\"\n",
        "dst = \"/content/drive/MyDrive/latex_ocr/reproducing/version_1\"\n",
        "shutil.copytree(src, dst, dirs_exist_ok=True)\n",
        "\n",
        "drive.flush_and_unmount()"
      ]
    },
    {
      "cell_type": "markdown",
      "metadata": {
        "id": "uA2V-PvDwAYE"
      },
      "source": [
        "# turn ckpt into pth"
      ]
    },
    {
      "cell_type": "code",
      "execution_count": null,
      "metadata": {
        "id": "4H2W25q8XYM6"
      },
      "outputs": [],
      "source": [
        "import torch\n",
        "from tqdm import tqdm\n",
        "from os import path as osp\n",
        "\n",
        "def ckpt2pth(cpath, pthpath):\n",
        "    mdict = torch.load(cpath)[\"state_dict\"]\n",
        "    nm_dict = dict()\n",
        "    for k in tqdm(mdict.keys()):\n",
        "        assert k.find(\"pt_model.\") != -1\n",
        "        nk = k.split(\"pt_model.\")[1]\n",
        "        nm_dict[nk] = mdict[k]\n",
        "    torch.save(nm_dict, pthpath)\n",
        "    print(f\"successfully saved at {osp.realpath(pthpath)}\")\n"
      ]
    },
    {
      "cell_type": "code",
      "execution_count": null,
      "metadata": {
        "id": "IUFfz_gIXhdr"
      },
      "outputs": [],
      "source": [
        "# change them\n",
        "# cpath = \"/content/lightning_logs/reproducing/version_1/checkpoints/ep1.pth\"\n",
        "# pthdesc = \"/content/ep1.pth\"\n",
        "\n",
        "# ckpt2pth(cpath=cpath, pthpath=pthdesc)"
      ]
    },
    {
      "cell_type": "markdown",
      "metadata": {
        "id": "xP7_LrSnXjxh"
      },
      "source": [
        "# evaluate by given script"
      ]
    },
    {
      "cell_type": "code",
      "execution_count": 13,
      "metadata": {
        "colab": {
          "base_uri": "https://localhost:8080/"
        },
        "id": "8r7w2nigXn6o",
        "outputId": "329c36d3-7839-448f-b7c8-080fcc67e8fe"
      },
      "outputs": [
        {
          "name": "stdout",
          "output_type": "stream",
          "text": [
            "/content/LaTeX-OCR\n",
            "BLEU: 0.835, ED: 1.43e-01, ACC: 0.521:  99% 1932/1948 [1:31:58<00:45,  2.86s/it]\n",
            "\n",
            "[['\\\\', 'operatorname', '*', '{', 'd', 'e', 't', '}', '\\\\', 'left', '(', 'M', '_', '{', '1', '2', '}', '\\\\', 'right', ')', '\\\\', 'operatorname', '*', '{', 'd', 'e', 't', '}', '\\\\', 'left', '(', '1', '+', 'M', '_', '{', '2', '}', '\\\\', 'sigma', 'M', '_', '{', '1', '}', '\\\\', 'sigma', '\\\\', 'right', ')', '=', '\\\\', 'operatorname', '*', '{', 'd', 'e', 't', '}', '\\\\', 'left', '(', '\\\\', 'left', '(', 'M', '_', '{', '1', '}', '+', 'M', '_', '{', '2', '}', '\\\\', 'right', ')', '\\\\', 'right', ')', '.'], ['e', '^', '{', '-', 'i', 'e', '\\\\', 'chi', '}', '\\\\', 'hat', '{', 'H', '}', 'e', '^', '{', 'i', 'e', '\\\\', 'chi', '}', '-', '\\\\', 'hat', '{', 'H', '}', '=', 'e', '^', '{', '-', 'i', 'e', '\\\\', 'chi', '}', '\\\\', 'tilde', '{', 'H', '}', 'e', '^', '{', 'i', 'e', '\\\\', 'chi', '}', '-', '\\\\', 'tilde', '{', 'H', '}', '=', 'e', '^', '{', '-', 'i', 'e', '\\\\', 'chi', '}', 'H', '_', '{', '0', '}', 'e', '^', '{', 'i', 'e', '\\\\', 'chi', '}', '-', 'H', '_', '{', '0', '}', '=', 'h', '.'], ['u', '(', 'x', ',', '0', ')', '=', 'u', '_', '{', '0', '}', '(', 'x', ')', ':', '=', 'K', '(', 'e', '^', '{', '\\\\', 'operatorname', '*', '{', 'm', 'a', 'x', '}', '\\\\{', 'x', ',', '0', '\\\\}', '}', '-', '1', ')', '=', 'K', '\\\\', 'left', '(', 'e', '^', '{', 'x', '}', '-', '1', '\\\\', 'right', ')', 'H', '(', 'x', ')'], ['{', 'v', '_', '{', 'R', '}', '^', '{', '3', '}', '}', '-', '3', 'v', '_', '{', 'R', '}', '^', '{', '2', '}', '+', '3', 'v', '_', '{', 'R', '}', '-', '1', '=', '\\\\', 'left', '(', 'v', '_', '{', 'R', '}', '-', '1', '\\\\', 'right', ')', '^', '{', '3', '}', '=', '0', '\\\\', 'quad', '\\\\', 'Longleftrightarrow', '\\\\', 'quad', 'v', '_', '{', 'R', '}', '=', '1'], ['<', '.', '>', '^', '{', '\\\\', 'prime', '}', '=', '(', '1', '+', '3', '\\\\', 'tau', '_', '{', '3', '}', ')', '/', '3', '6', ';', '\\\\', 'quad', '<', '.', '>', '\"', '=', '(', '1', '-', '5', '\\\\', 'tau', '_', '{', '3', '}', ')', '/', '3', '6'], ['{', '\\\\', 'textrm', '{', 'a', 'd', '}', '}', ':', '{', '\\\\', 'mathfrak', '{', 'g', '}', '}', '\\\\', 'to', '{', '\\\\', 'mathfrak', '{', 'g', 'l', '}', '}', '(', '{', '\\\\', 'mathfrak', '{', 'g', '}', '}', ')', ',', '\\\\', 'quad', 'X', '\\\\', 'mapsto', '\\\\', 'operatorname', '{', 'a', 'd', '}', '_', '{', 'X', '}', ',', '\\\\', 'quad', '\\\\', 'operatorname', '{', 'a', 'd', '}', '_', '{', 'X', '}', '(', 'Y', ')', '=', '[', 'X', ',', 'Y', ']', '.'], ['\\\\', 'begin', '{', 'array', '}', '{', 'r', 'c', 'l', 'l', '}', '{', '|', '\\\\', 'sin', '(', 'k', '{', '+', '}', '1', ')', 'x', '|', '}', '&', '{', '=', '}', '&', '{', '|', '\\\\', 'sin', 'k', 'x', '\\\\,', '\\\\', 'cos', 'x', '+', '\\\\', 'sin', 'x', '\\\\,', '\\\\', 'cos', 'k', 'x', '\\\\,', '|', '}', '&', '{', '{', '\\\\', 'mathrm', '{', '(', 'a', 'n', 'g', 'l', 'e', '~', 'a', 'd', 'd', 'i', 't', 'i', 'o', 'n', ')', '}', '}', '}', '\\\\', 'end', '{', 'array', '}'], ['|', '\\\\', 'vec', '{', '\\\\', 'delta', '}', '|', '\\\\', 'll', '(', 'm', '_', '{', 'c', '}', ',', '\\\\', 'm', '_', '{', 's', '}', ',', '\\\\', 'm', '_', '{', '\\\\', 'mu', '}', ')', '\\\\', 'qquad', '|', '\\\\', 'vec', '{', '\\\\', 'delta', '^', '{', '\\\\', 'prime', '}', '}', '|', '\\\\', 'll', '(', 'm', '_', '{', 'u', '}', ',', '\\\\', 'm', '_', '{', 'd', '}', ',', '\\\\', 'm', '_', '{', 'e', '}', ')'], ['[', '\\\\', 'Lambda', '_', '{', '\\\\', 'alpha', '}', ',', '\\\\', 'tilde', '{', '\\\\', 'phi', '}', '_', '{', 'm', '}', ']', '=', '[', '\\\\', 'tilde', '{', '\\\\', 'Lambda', '}', '_', '{', '\\\\', 'alpha', '}', ',', '\\\\', 'phi', '_', '{', 'm', '}', ']', '=', '[', '\\\\', 'Lambda', '_', '{', '\\\\', 'alpha', '}', ',', '\\\\', 'tilde', '{', '\\\\', 'pi', '}', '_', '{', 'm', '}', ']', '=', '[', '\\\\', 'tilde', '{', '\\\\', 'Lambda', '}', '_', '{', '\\\\', 'alpha', '}', ',', '\\\\', 'pi', '_', '{', 'm', '}', ']', '=', '0'], ['d', 's', '_', '{', '7', '}', '^', '{', '2', '}', '=', 'e', '^', '{', '2', 'f', '}', '(', 'd', 'x', '_', '{', '4', '}', '^', '{', '2', '}', '+', 'd', '\\\\', 'rho', '^', '{', '2', '}', ')', '+', 'e', '^', '{', '2', 'g', '}', '(', 'd', '\\\\', 'theta', '^', '{', '2', '}', '+', '\\\\', 'sin', '^', '{', '2', '}', '\\\\', 'theta', 'd', '\\\\', 'varphi', '^', '{', '2', '}', ')', ','], ['T', '_', '{', '1', '\\\\', 'mathrm', '{', 'I', '}', '\\\\!', '\\\\', 'mathrm', '{', 'P', '}', '}', '^', '{', 'h', '_', '{', '1', '}', 'h', '_', '{', '2', '}', '}', '=', 'T', '_', '{', '\\\\', 'mathrm', '{', 's', 'o', 'f', 't', '}', '}', '^', '{', 'h', '_', '{', '1', '}', 'h', '_', '{', '2', '}', '}', '+', 'T', '_', '{', '\\\\', 'mathrm', '{', 's', 'e', 'a', '}', '-', '\\\\', 'mathrm', '{', 's', 'e', 'a', '}', '}', '^', '{', 'h', '_', '{', '1', '}', 'h', '_', '{', '2', '}', '}', '+', 'T', '_', '{', '\\\\', 'mathrm', '{', 'v', 'a', 'l', '}', '-', '\\\\', 'mathrm', '{', 'v', 'a', 'l', '}', '}', '^', '{', 'h', '_', '{', '1', '}', 'h', '_', '{', '2', '}', '}', '+', 'T', '_', '{', '\\\\', 'mathrm', '{', 'v', 'a', 'l', '}', '-', '\\\\', 'mathrm', '{', 's', 'e', 'a', '}', '}', '^', '{', 'h', '_', '{', '1', '}', 'h', '_', '{', '2', '}', '}', '+', 'T', '_', '{', '\\\\', 'mathrm', '{', 's', 'e', 'a', '}', '-', '\\\\', 'mathrm', '{', 'v', 'a', 'l', '}', '}', '^', '{', 'h', '_', '{', '1', '}', 'h', '_', '{', '2', '}', '}', ','], ['A', '_', '{', '\\\\', 'rho', '}', '^', '{', 'u', 'd', '}', '(', 'x', ',', '\\\\', 'xi', ',', '\\\\', 'Delta', '^', '{', '2', '}', ')', '=', '\\\\', 'widetilde', 'h', '_', '{', '\\\\', 'rho', '}', '\\\\', 'widetilde', 'H', '^', '{', 'u', 'd', '}', '(', 'x', ',', '\\\\', 'xi', ',', '\\\\', 'Delta', '^', '{', '2', '}', ')', '+', '\\\\', 'widetilde', 'e', '_', '{', '\\\\', 'rho', '}', '\\\\', 'widetilde', 'E', '^', '{', 'u', 'd', '}', '(', 'x', ',', '\\\\', 'xi', ',', '\\\\', 'Delta', '^', '{', '2', '}', ')', ','], ['G', '_', '{', 'n', '}', '^', '{', '(', '1', ')', '}', '=', 'P', '_', '{', 'n', ',', '0', '}', 'P', '_', '{', 'n', ',', '1', '}', '^', '{', 'R', '}', 'P', '_', '{', 'n', ',', '2', '}', 'P', '_', '{', 'n', ',', '3', '}', '^', '{', 'R', '}', '\\\\', 'cdots', '{', '\\\\', 'mathrm', '{', '~', 'a', 'n', 'd', '~', '}', '}', 'G', '_', '{', 'n', '}', '^', '{', '(', '2', ')', '}', '=', 'P', '_', '{', 'n', ',', '0', '}', '^', '{', 'R', '}', 'P', '_', '{', 'n', ',', '1', '}', 'P', '_', '{', 'n', ',', '2', '}', '^', '{', 'R', '}', 'P', '_', '{', 'n', ',', '3', '}', '\\\\', 'cdots'], ['\\\\', 'bar', '{', 'U', '}', '_', '{', 'f', '}', 'p', '_', '{', 'f', '\\\\', 'mu', '}', '^', '{', '\\\\', 'prime', '}', 'U', '_', '{', 'f', '^', '{', '\\\\', 'prime', '}', '}', '\\\\', 'bar', '{', 'U', '}', '_', '{', 'f', '^', '{', '\\\\', 'prime', '}', '}', '\\\\', 'gamma', '^', '{', '\\\\', 'mu', '}', '\\\\', 'gamma', '_', '{', '5', '}', 'U', '_', '{', 'f', '}', '\\\\', '\\\\', '\\\\', '\\\\', 'mathrm', '{', 'a', 'n', 'd', '}', '\\\\', '\\\\', '\\\\,', 'b', 'a', 'r', '{', 'U', '}', '^', '{', 'f', '}', 'p', '_', '{', 'f', '\\\\', 'mu', '}', '^', '{', '\\\\', 'prime', '}', '\\\\', 'gamma', '^', '{', '5', '}', 'U', '_', '{', 'f', '^', '{', '\\\\', 'prime', '}', '}', '\\\\', 'bar', '{', 'U', '}', '_', '{', 'f', '^', '{', '\\\\', 'prime', '}', '}', '\\\\', 'gamma', '^', '{', '\\\\', 'mu', '}', 'U', '_', '{', 'f', '}', '.'], ['F', '_', '{', '\\\\', 'lambda', '}', '(', 'y', 't', ',', 'x', 's', ')', '=', 'y', '(', 't', '-', '\\\\', 'xi', ')', '-', '(', 'x', '-', '\\\\', 'xi', ')', 's', '-', '(', '\\\\', 'lambda', '+', '\\\\', 'beta', ')', '\\\\', 'ln', '(', 't', '-', 'x', ')', '~', ','], ['{', '\\\\', 'Delta', '}', 'F', '(', 'T', ')', '\\\\', 'simeq', '-', '\\\\', 'pi', '{', '\\\\', 'bar', '{', '\\\\', 'rho', '}', '}', '^', '{', '2', '}', '\\\\,', '\\\\', 'Delta', 'U', '_', '{', '\\\\', 'mathrm', '{', 'e', 'f', 'f', '}', '}', '(', 'T', ')', '+', '2', '\\\\', 'pi', '(', '{', '\\\\', 'cal', 'S', '}', '_', '{', '0', '}', '+', '{', '\\\\', 'cal', 'S', '}', '_', '{', '\\\\', 'beta', '}', ')', '\\\\', 'bar', '{', '\\\\', 'rho', '}', '\\\\;', ',']]\n",
            "[['\\\\', 'operatorname', '*', '{', 'd', 'e', 't', '}', '{', '(', 'M', '_', '{', '1', '2', '}', ')', '}', '\\\\', 'operatorname', '*', '{', 'd', 'e', 't', '}', '{', '(', '1', '+', 'M', '_', '{', '2', '}', '\\\\', 'sigma', 'M', '_', '{', '1', '}', '\\\\', 'sigma', ')', '}', '=', '\\\\', 'operatorname', '*', '{', 'd', 'e', 't', '}', '{', '(', '(', 'M', '_', '{', '1', '}', '+', 'M', '_', '{', '2', '}', ')', ')', '}', '\\\\,', '.'], ['e', '^', '{', '-', 'i', '\\\\', 'omega', '_', '{', '2', '}', '}', '\\\\', 'hat', '{', 'H', '}', 'e', '^', '{', 'i', '\\\\', 'cdot', '\\\\', 'chi', '}', '-', '\\\\', 'hat', '{', 'H', '}', '=', 'e', '^', '{', '-', 'i', '\\\\', 'omega', '_', '{', '2', '}', '}', '\\\\', 'hat', '{', 'H', '}', 'e', '^', '{', 'i', '\\\\', 'cdot', '\\\\', 'chi', '}', '-', '\\\\', 'hat', '{', 'H', '}', '=', 'e', '^', '{', '-', 'i', '\\\\', 'epsilon', '_', '{', '3', '}', '}', 'H', '_', '{', '0', '}', 'e', '^', '{', 'i', '\\\\', 'cdot', '\\\\', 'chi', '}', '-', 'H', '_', '{', '0', '}', '=', 'h', '.'], ['u', '(', 'x', ',', '0', ')', '=', 'u', '_', '{', '0', '}', '(', 'x', ')', ':', '=', 'K', '(', 'e', '^', '{', '\\\\', 'operatorname', '*', '{', 'm', 'a', 'x', '}', '\\\\{', 'x', ',', '0', '\\\\}', '}', '-', '1', ')', '=', 'K', '\\\\', 'left', '(', 'e', '^', '{', 'x', '}', '-', '1', '\\\\', 'right', ')', 'H', '(', 'x', ')'], ['v', '_', '{', 'R', '}', '^', '{', '3', '}', '-', '3', 'v', '_', '{', 'R', '}', '^', '{', '2', '}', '+', '3', 'v', '_', '{', 'R', '}', '-', '1', '=', '(', 'v', '_', '{', 'R', '}', '-', '1', ')', '^', '{', '3', '}', '=', '0', '\\\\', 'quad', '\\\\', 'Longleftrightarrow', '\\\\', 'quad', 'v', '_', '{', 'R', '}', '=', '1'], ['<', '.', '>', '^', '{', '\\\\', 'prime', '}', '=', '(', '1', '+', '3', '\\\\', 'tau', '_', '{', '3', '}', ')', '/', '3', '6', ';', '\\\\', 'quad', '<', '.', '>', '^', '{', '\\\\', 'circ', '}', '=', '(', '1', '-', '5', '\\\\', 'tau', '_', '{', '3', '}', ')', '/', '3', '6'], ['{', '\\\\', 'textrm', '{', 'a', 'd', '}', '}', ':', '{', '\\\\', 'mathfrak', '{', 'g', '}', '}', '\\\\', 'to', '{', '\\\\', 'mathfrak', '{', 'g', 'l', '}', '}', '(', '{', '\\\\', 'mathfrak', '{', 'g', '}', '}', ')', ',', '\\\\', 'quad', 'X', '\\\\', 'mapsto', '{', '\\\\', 'mathfrak', '{', 'a', 'd', '}', '}', '_', '{', 'X', '}', ',', '\\\\', 'quad', '{', '\\\\', 'mathrm', '{', 'a', 'd', '}', '}', '_', '{', 'X', '}', '(', 'Y', ')', '=', '[', 'X', ',', 'Y', ']', '.'], ['\\\\', 'begin', '{', 'array', '}', '{', 'r', 'c', 'l', '}', '{', '|', '\\\\', 'sin', '(', 'k', '{', '+', '}', '1', ')', 'x', '|', '}', '&', '{', '{', '}', '=', '}', '&', '{', '|', '\\\\', 'sin', 'k', 'x', '\\\\', 'cos', 'x', '+', '\\\\', 'sin', 'x', '\\\\', 'cos', 'k', 'x', '|', '}', '&', '{', '{', '}', '{', '\\\\', 'mathrm', '{', '(', 'a', 'n', 'g', 'l', 'e', '~', 'a', 'd', 'd', 'i', 't', 'i', 'o', 'n', ')', '}', '}', '}', '\\\\', 'end', '{', 'array', '}'], ['\\\\', 'vert', '\\\\', 'tilde', '{', 'b', '}', '\\\\', 'vert', '\\\\', 'll', '(', 'm', '_', '{', 'c', '}', ',', '\\\\;', 'm', '_', '{', 's', '}', ',', '\\\\;', 'm', '_', '{', '\\\\', 'mu', '}', ')', '\\\\;', '\\\\;', '\\\\;', '\\\\;', '\\\\;', '\\\\;', '\\\\', 'vert', '\\\\', 'tilde', '{', 'b', '}', '^', '{', '\\\\', 'prime', '}', '\\\\', 'vert', '\\\\', 'll', '(', 'm', '_', '{', 'u', '}', ',', '\\\\;', 'm', '_', '{', 'd', '}', ',', '\\\\;', 'm', '_', '{', 'e', '}', ')'], ['[', '\\\\', 'Lambda', '_', '{', '\\\\', 'alpha', '}', ',', '\\\\', 'tilde', '{', '\\\\', 'phi', '}', '_', '{', 'm', '}', ']', '=', '[', '\\\\', 'bar', '{', '\\\\', 'Lambda', '}', '_', '{', '\\\\', 'alpha', '}', ',', '\\\\', 'phi', '_', '{', 'm', '}', ']', '=', '[', '\\\\', 'Lambda', '_', '{', '\\\\', 'alpha', '}', ',', '\\\\', 'tilde', '{', '\\\\', 'pi', '}', '_', '{', 'm', '}', ']', '=', '[', '\\\\', 'tilde', '{', '\\\\', 'Lambda', '}', '_', '{', '\\\\', 'alpha', '}', ',', '\\\\', 'pi', '_', '{', 'm', '}', ']', '=', '0'], ['d', 's', '_', '{', '\\\\', 'tilde', '{', '\\\\', 'tau', '}', '}', '^', '{', '2', '}', '=', 'e', '^', '{', '2', 'f', '}', '(', 'd', 'x', '_', '{', '4', '}', '^', '{', '2', '}', '+', 'd', '\\\\', 'rho', '^', '{', '2', '}', ')', '+', 'e', '^', '{', '2', 'g', '}', '(', 'd', '\\\\', 'theta', '^', '{', '2', '}', '+', '\\\\', 'sin', '^', '{', '2', '}', '\\\\', 'theta', 'd', '\\\\', 'varphi', '^', '{', '2', '}', ')', ','], ['T', '_', '{', '1', '1', '1', '}', '^', '{', 'b', '_', '{', '1', '}', 'h', '_', '{', '2', '}', '}', '=', 'T', '_', '{', '\\\\', 'mathrm', '{', 's', 'o', 'f', 't', '}', '}', '^', '{', 'b', '_', '{', '1', '}', 'h', '_', '{', '2', '}', '}', '+', 'T', '_', '{', '\\\\', 'mathrm', '{', 's', 'o', 'n', 'f', '-', 's', 'e', 'a', 'l', '}', '}', '^', '{', 'b', '_', '{', '1', '}', 'h', '_', '{', '2', '}', '}', '+', 'T', '_', '{', '\\\\', 'mathrm', '{', 'v', 'a', 'l', '}', '-', '\\\\', 'mathrm', '{', 's', 'e', 'a', '-', 's', 'e', 'a', '}', '}', '^', '{', 'b', '_', '{', '1', '}', 'h', '_', '{', '2', '}', '}', '+', 'T', '_', '{', '\\\\', 'mathrm', '{', 's', 'o', 'n', 'f', '-', 's', 'e', 'a', '}', '}', '^', '{', 'h', '_', '{', '1', '}', 'h', '_', '{', '2', '}', '}', '+', 'T', '_', '{', '\\\\', 'mathrm', '{', 's', 'o', 'n', '.', '}', '}', '^', '{', 'h', '_', '{', '1', '}', 'h', '_', '{', '2', '}', '}', ','], ['A', '_', '{', '\\\\', 'rho', '}', '^', '{', 'u', 'd', '}', '(', 'x', ',', '\\\\', 'xi', ',', '\\\\', 'Delta', '^', '{', '2', '}', ')', '=', '\\\\', 'tilde', '{', 'h', '}', '_', '{', '\\\\', 'rho', '}', '\\\\', 'tilde', '{', 'H', '}', '^', '{', 'u', 'd', '}', '(', 'x', ',', '\\\\', 'xi', ',', '\\\\', 'Delta', '^', '{', '2', '}', ')', '+', '\\\\', 'tilde', '{', 'e', '}', '_', '{', '\\\\', 'rho', '}', '\\\\', 'tilde', '{', 'E', '}', '^', '{', 'u', 'd', '}', '(', 'x', ',', '\\\\', 'xi', ',', '\\\\', 'Delta', '^', '{', '2', '}', ')', ','], ['G', '_', '{', 'n', '}', '^', '{', '(', '1', ')', '}', '=', 'P', '_', '{', 'n', ',', '0', '}', 'P', '_', '{', 'n', ',', '1', '}', '^', '{', 'R', '}', 'P', '_', '{', 'n', ',', '2', '}', 'P', '_', '{', 'n', ',', '3', '}', '^', '{', 'R', '}', '\\\\', 'cdots', '{', '\\\\', 'mathrm', '{', '~', 'a', 'n', 'd', '~', '}', '}', 'G', '_', '{', 'n', '}', '^', '{', '(', '2', ')', '}', '=', 'P', '_', '{', 'n', ',', '0', '}', '^', '{', 'R', '}', 'P', '_', '{', 'n', ',', '1', '}', 'P', '_', '{', 'n', ',', '2', '}', '^', '{', 'R', '}', 'P', '_', '{', 'n', ',', '3', '}', '\\\\', 'cdots'], ['\\\\', 'bar', '{', 'U', '}', '_', '{', 'f', '}', 'p', '_', '{', 'f', '\\\\', 'mu', '}', '^', '{', '\\\\', 'prime', '}', 'U', '_', '{', 'f', '^', '{', '\\\\', 'prime', '}', '}', '\\\\', 'bar', '{', 'U', '}', '_', '{', 'f', '^', '{', '\\\\', 'prime', '}', '}', '\\\\', 'gamma', '^', '{', '\\\\', 'mu', '}', '\\\\', 'gamma', '_', '{', '5', '}', 'U', '_', '{', 'f', '}', '\\\\', 'quad', '\\\\', 'mathrm', '{', 'a', 'n', 'd', '}', '\\\\', 'quad', 'b', 'a', 'r', 'U', '^', '{', 'f', '}', 'p', '_', '{', 'f', '\\\\', 'mu', '}', '^', '{', '\\\\', 'prime', '}', '\\\\', 'gamma', '^', '{', '5', '}', 'U', '_', '{', 'f', '^', '{', '\\\\', 'prime', '}', '}', '\\\\', 'bar', '{', 'U', '}', '_', '{', 'f', '^', '{', '\\\\', 'prime', '}', '}', '\\\\', 'gamma', '^', '{', '\\\\', 'mu', '}', 'U', '_', '{', 'f', '}', '.'], ['F', '_', '{', '\\\\', 'lambda', '}', '(', 'y', 't', ',', 'x', 's', ')', '=', 'y', '(', 't', '-', '\\\\', 'xi', ')', '-', '(', 'x', '-', '\\\\', 'xi', ')', 's', '-', '(', '\\\\', 'lambda', '+', '\\\\', 'beta', ')', '\\\\', 'ln', '(', 't', '-', 'x', ')', '\\\\;', ','], ['\\\\', 'Delta', 'F', '(', 'T', ')', '\\\\', 'simeq', '-', '\\\\', 'pi', '\\\\', 'bar', '{', '\\\\', 'rho', '}', '^', '{', '2', '}', '\\\\,', '\\\\', 'Delta', 'U', '_', '{', '\\\\', 'mathrm', '{', 'e', 'f', 'f', '}', '}', '(', 'T', ')', '+', '2', '\\\\', 'pi', '(', 'S', '_', '{', '0', '}', '+', 'S', '_', '{', '\\\\', 'beta', '}', ')', '\\\\', 'bar', '{', '\\\\', 'rho', '}', '\\\\;', ',']]\n",
            "BLEU: 0.84\n"
          ]
        }
      ],
      "source": [
        "# times varies from batch to batch and model to model a lot\n",
        "%cd /content/LaTeX-OCR\n",
        "!python /content/LaTeX-OCR/pix2tex/eval.py \\\n",
        "    -c /content/lightning_logs/reproducing/version_1/checkpoints/ep29.pth \\\n",
        "    -d /content/pdf/test.pkl \\\n",
        "    -b 16 \\\n",
        "    -n 10000"
      ]
    },
    {
      "cell_type": "markdown",
      "metadata": {
        "id": "ElbYsI9Zn9cP"
      },
      "source": [
        "# tensorboard"
      ]
    },
    {
      "cell_type": "code",
      "execution_count": null,
      "metadata": {
        "id": "rp1udJY7n-yO"
      },
      "outputs": [],
      "source": [
        "%load_ext tensorboard\n",
        "%tensorboard --logdir /content/lightning_logs"
      ]
    },
    {
      "cell_type": "code",
      "execution_count": null,
      "metadata": {
        "id": "q-z7mYS-wC7p"
      },
      "outputs": [],
      "source": []
    }
  ],
  "metadata": {
    "accelerator": "GPU",
    "colab": {
      "gpuType": "T4",
      "provenance": []
    },
    "kernelspec": {
      "display_name": "Python 3.10.5 64-bit",
      "language": "python",
      "name": "python3"
    },
    "language_info": {
      "name": "python",
      "version": "3.10.5"
    },
    "vscode": {
      "interpreter": {
        "hash": "ca29e3563348585fb07c9b8f6f5b0173d92adc36dd28ab799a9966dfa905008e"
      }
    }
  },
  "nbformat": 4,
  "nbformat_minor": 0
}
